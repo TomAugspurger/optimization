{
 "metadata": {
  "name": "hw2_turn_in.py"
 },
 "nbformat": 3,
 "nbformat_minor": 0,
 "worksheets": [
  {
   "cells": [
    {
     "cell_type": "code",
     "collapsed": false,
     "input": [
      "from __future__ import division\n",
      "\n",
      "import numpy as np\n",
      "import pandas as pd\n",
      "from scipy import optimize as opt\n",
      "from hw2 import Opt\n",
      "pd.set_printoptions(notebook_repr_html=True)\n",
      "%load_ext autoreload\n",
      "%autoreload"
     ],
     "language": "python",
     "metadata": {},
     "outputs": [],
     "prompt_number": 75
    },
    {
     "cell_type": "markdown",
     "metadata": {},
     "source": [
      "Number 1\n",
      "--------\n",
      "\n",
      "Find zero $x^*$ of $g(x) := \\sqrt(x)x^x - 1 = 0\\ \\ \\ \\ $ on the interval $[0.1, 1]$"
     ]
    },
    {
     "cell_type": "code",
     "collapsed": false,
     "input": [
      "f = lambda x: np.sqrt(x) * np.exp(x) - 1\n",
      "g = lambda x: np.exp(x) * (.5 * x ** (-.5) + x ** (1.5))\n",
      "\n",
      "x = 0.426302751006863\n",
      "m = Opt(f, a=0.1, b=1.0, g=g, x0=.55, verbose=True, max_iter=100)\n",
      "zero, e, max_k, full = m.bisection()\n",
      "print('The zero is %f and the necessary number of iterations is %i' % (zero, max_k))"
     ],
     "language": "python",
     "metadata": {},
     "outputs": [
      {
       "output_type": "stream",
       "stream": "stdout",
       "text": [
        "The zero is 0.426303 and the necessary number of iterations is 33\n"
       ]
      }
     ],
     "prompt_number": 55
    },
    {
     "cell_type": "code",
     "collapsed": false,
     "input": [
      "df = pd.DataFrame(full, columns=['k', 'x_k', 'delta'])\n",
      "df.ix[0:10]['x_k'] - x"
     ],
     "language": "python",
     "metadata": {},
     "outputs": [
      {
       "output_type": "pyout",
       "prompt_number": 7,
       "text": [
        "0     0.123697\n",
        "1    -0.101303\n",
        "2     0.011197\n",
        "3    -0.045053\n",
        "4    -0.016928\n",
        "5    -0.002865\n",
        "6     0.004166\n",
        "7     0.000650\n",
        "8    -0.001107\n",
        "9    -0.000229\n",
        "10    0.000211\n",
        "Name: x_k"
       ]
      }
     ],
     "prompt_number": 7
    },
    {
     "cell_type": "markdown",
     "metadata": {},
     "source": [
      "Part b: Simplified Newton's Method"
     ]
    },
    {
     "cell_type": "code",
     "collapsed": false,
     "input": [
      "x0 = .55\n",
      "zero, e, k, full = m.newton(simple=True)\n",
      "df = pd.DataFrame(full, columns=['k', 'x_k', 'delta'])\n",
      "print(df.ix[:10]['x_k'] - x)"
     ],
     "language": "python",
     "metadata": {},
     "outputs": [
      {
       "output_type": "stream",
       "stream": "stdout",
       "text": [
        "0    -2.848041e-02\n",
        "1     4.100045e-03\n",
        "2    -6.588616e-04\n",
        "3     1.042248e-04\n",
        "4    -1.652898e-05\n",
        "5     2.620278e-06\n",
        "6    -4.154094e-07\n",
        "7     6.585683e-08\n",
        "8    -1.044061e-08\n",
        "9     1.655203e-09\n",
        "10   -2.624078e-10\n",
        "Name: x_k\n"
       ]
      }
     ],
     "prompt_number": 26
    },
    {
     "cell_type": "markdown",
     "metadata": {},
     "source": [
      "Part c: Newton's Method"
     ]
    },
    {
     "cell_type": "code",
     "collapsed": false,
     "input": [
      "zero, e, k, full = m.newton()\n",
      "df = pd.DataFrame(full, columns=['k', 'x_k', 'delta'])\n",
      "print(df.ix[:10]['x_k'] - x)"
     ],
     "language": "python",
     "metadata": {},
     "outputs": [
      {
       "output_type": "stream",
       "stream": "stdout",
       "text": [
        "0    -0.028480\n",
        "1     0.010853\n",
        "2    -0.003791\n",
        "3     0.001372\n",
        "4    -0.000491\n",
        "5     0.000176\n",
        "6    -0.000063\n",
        "7     0.000023\n",
        "8    -0.000008\n",
        "9     0.000003\n",
        "10   -0.000001\n",
        "Name: x_k\n"
       ]
      }
     ],
     "prompt_number": 59
    },
    {
     "cell_type": "markdown",
     "metadata": {},
     "source": [
      "Part d: Secant Method"
     ]
    },
    {
     "cell_type": "code",
     "collapsed": false,
     "input": [
      "zero, e, k, full = m.secant()\n",
      "df = pd.DataFrame(full, columns=['k', 'x_k', 'delta'])\n",
      "print(df.ix[:10]['x_k'] - x)"
     ],
     "language": "python",
     "metadata": {},
     "outputs": [
      {
       "output_type": "stream",
       "stream": "stdout",
       "text": [
        "0   -1.645229e-03\n",
        "1   -9.585059e-05\n",
        "2    7.143640e-08\n",
        "3   -3.104239e-12\n",
        "4   -2.220446e-16\n",
        "Name: x_k\n"
       ]
      }
     ],
     "prompt_number": 62
    },
    {
     "cell_type": "markdown",
     "metadata": {},
     "source": [
      "Part e: Fixed Point Method"
     ]
    },
    {
     "cell_type": "code",
     "collapsed": false,
     "input": [
      "T = lambda x: np.exp(-2 * x)\n",
      "zero, e, k, full = m.fixed_point(T)\n",
      "df = pd.DataFrame(full, columns=['k', 'x_k', 'delta'])\n",
      "print(df.ix[:10]['x_k'] - x)"
     ],
     "language": "python",
     "metadata": {},
     "outputs": [
      {
       "output_type": "stream",
       "stream": "stdout",
       "text": [
        "0    -0.093432\n",
        "1     0.087589\n",
        "2    -0.068504\n",
        "3     0.062597\n",
        "4    -0.050165\n",
        "5     0.044990\n",
        "6    -0.036684\n",
        "7     0.032453\n",
        "8    -0.026790\n",
        "9     0.023465\n",
        "10   -0.019544\n",
        "Name: x_k\n"
       ]
      }
     ],
     "prompt_number": 32
    },
    {
     "cell_type": "markdown",
     "metadata": {},
     "source": [
      "Number 3\n",
      "========"
     ]
    },
    {
     "cell_type": "code",
     "collapsed": false,
     "input": [
      "f = lambda x: 4 * x ** 5 - x ** 3 - x\n",
      "g = lambda x: 20 * x ** 4 - 3 * x ** 2 - 1\n",
      "x0 = .5\n",
      "n3 = Opt(f, g=g, x0=x0, verbose=True, max_iter=10)\n",
      "zero, e, k, full = n3.newton()\n",
      "df = pd.DataFrame(full, columns=['k', 'x_k', 'delta'])\n",
      "print(df[['k', 'x_k']])\n",
      "print('Not Converging.  Cycling.')"
     ],
     "language": "python",
     "metadata": {},
     "outputs": [
      {
       "output_type": "stream",
       "stream": "stdout",
       "text": [
        "     k  x_k\n",
        "0    1 -0.5\n",
        "1    2  0.5\n",
        "2    3 -0.5\n",
        "3    4  0.5\n",
        "4    5 -0.5\n",
        "5    6  0.5\n",
        "6    7 -0.5\n",
        "7    8  0.5\n",
        "8    9 -0.5\n",
        "9   10  0.5\n",
        "10  11 -0.5\n",
        "Not Converging.  Cycling.\n"
       ]
      }
     ],
     "prompt_number": 37
    },
    {
     "cell_type": "code",
     "collapsed": false,
     "input": [
      "f = lambda x: x ** 6 - (1.5) ** 6\n",
      "x0 = .25\n",
      "x1 = 5\n",
      "n4 = Opt(f, max_iter=6, tol=1e-10, verbose=True, x0=.25)\n",
      "zero, e, k, full = n4.secant(x1=x1)\n",
      "df = pd.DataFrame(full, columns=['k', 'x_k', 'delta'])\n",
      "print(df[['k', 'x_k']])"
     ],
     "language": "python",
     "metadata": {},
     "outputs": [
      {
       "output_type": "stream",
       "stream": "stdout",
       "text": [
        "   k          x_k\n",
        "0  1     0.253463\n",
        "1  2  1877.975489\n",
        "2  3     0.253463\n",
        "3  4     0.253463\n"
       ]
      }
     ],
     "prompt_number": 86
    },
    {
     "cell_type": "markdown",
     "metadata": {},
     "source": [
      "Number 5\n",
      "========"
     ]
    },
    {
     "cell_type": "code",
     "collapsed": false,
     "input": [
      "f = lambda x: 2 * x ** (1.5) + 3 * np.exp(-x) + 5\n",
      "a0, b0 = 0.2, 0.6\n",
      "n5 = Opt(f, a=.2, b=.6, max_iter=3, verbose=True)\n",
      "zero, e, k, full = n5.golden_section()\n",
      "df = pd.DataFrame(full, columns=['k', '(a, b)'])\n",
      "df"
     ],
     "language": "python",
     "metadata": {},
     "outputs": [
      {
       "html": [
        "<div style=\"max-height:1000px;max-width:1500px;overflow:auto;\">\n",
        "<table border=\"1\" class=\"dataframe\">\n",
        "  <thead>\n",
        "    <tr style=\"text-align: right;\">\n",
        "      <th></th>\n",
        "      <th>k</th>\n",
        "      <th>(a, b)</th>\n",
        "    </tr>\n",
        "  </thead>\n",
        "  <tbody>\n",
        "    <tr>\n",
        "      <td><strong>0</strong></td>\n",
        "      <td> 1</td>\n",
        "      <td> (0.3527864045, 0.4472135955)</td>\n",
        "    </tr>\n",
        "    <tr>\n",
        "      <td><strong>1</strong></td>\n",
        "      <td> 2</td>\n",
        "      <td>  (0.4472135955, 0.505572809)</td>\n",
        "    </tr>\n",
        "    <tr>\n",
        "      <td><strong>2</strong></td>\n",
        "      <td> 3</td>\n",
        "      <td>  (0.411145618, 0.4472135955)</td>\n",
        "    </tr>\n",
        "    <tr>\n",
        "      <td><strong>3</strong></td>\n",
        "      <td> 4</td>\n",
        "      <td>   (0.388854382, 0.411145618)</td>\n",
        "    </tr>\n",
        "  </tbody>\n",
        "</table>\n",
        "</div>"
       ],
       "output_type": "pyout",
       "prompt_number": 92,
       "text": [
        "   k                        (a, b)\n",
        "0  1  (0.3527864045, 0.4472135955)\n",
        "1  2   (0.4472135955, 0.505572809)\n",
        "2  3   (0.411145618, 0.4472135955)\n",
        "3  4    (0.388854382, 0.411145618)"
       ]
      }
     ],
     "prompt_number": 92
    },
    {
     "cell_type": "code",
     "collapsed": false,
     "input": [],
     "language": "python",
     "metadata": {},
     "outputs": []
    }
   ],
   "metadata": {}
  }
 ]
}